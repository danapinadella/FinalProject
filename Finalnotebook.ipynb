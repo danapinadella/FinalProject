{
 "cells": [
  {
   "cell_type": "markdown",
   "metadata": {},
   "source": [
    "Our final project focuses on the best neighborhood in Pittsburgh based on the amount of things there is to do outdoors. So, the neighborhood with the most variety of things to do outside is classified as the overall best neighborhood. When searching through the data types, we just wanted to focus on the activities and places there are throughout Pittsburgh, such as restaurants, malls, rest areas, play areas, or even places to hang out with friends. We first explored some alternatives based on this criteria. We started off by wanting to just focus on restuarants (fast food, food faciltiies, etc.), but we came to the conclusion that it was not broad enough when determining the best neighborhood. We ended up deciding on a metric that came down to what neighborhood had the most to do. This provided a broader variety while still connecting each data set to one another: the most playgrounds, greenspaces, and courts/rinks. "
   ]
  },
  {
   "cell_type": "markdown",
   "metadata": {},
   "source": [
    "For our project, our metric is determined by what neighborhood has the most to do, which will be the best, and what neighborhood has the least to do, which will be the worst. The features we are planning to measure is the amount of playgrounds, greenspaces, and courts/rinks each neighborhood in Pittsburgh has. Whichever one has the most or around the most of each feature will be claimed as the best neighborhood to live in. For this porject, the datasets we are using include: 1) City of Pittsburgh Playgrounds 2) Operational Green spaces 3) City of Pittsburgh Courts and Rinks\n"
   ]
  },
  {
   "cell_type": "code",
   "execution_count": 4,
   "metadata": {},
   "outputs": [
    {
     "data": {
      "text/html": [
       "<div>\n",
       "<style scoped>\n",
       "    .dataframe tbody tr th:only-of-type {\n",
       "        vertical-align: middle;\n",
       "    }\n",
       "\n",
       "    .dataframe tbody tr th {\n",
       "        vertical-align: top;\n",
       "    }\n",
       "\n",
       "    .dataframe thead th {\n",
       "        text-align: right;\n",
       "    }\n",
       "</style>\n",
       "<table border=\"1\" class=\"dataframe\">\n",
       "  <thead>\n",
       "    <tr style=\"text-align: right;\">\n",
       "      <th></th>\n",
       "      <th>id</th>\n",
       "      <th>name</th>\n",
       "      <th>type</th>\n",
       "      <th>maintenance_responsibility</th>\n",
       "      <th>park</th>\n",
       "      <th>street</th>\n",
       "      <th>image</th>\n",
       "      <th>neighborhood</th>\n",
       "      <th>council_district</th>\n",
       "      <th>ward</th>\n",
       "      <th>tract</th>\n",
       "      <th>public_works_division</th>\n",
       "      <th>pli_division</th>\n",
       "      <th>police_zone</th>\n",
       "      <th>fire_zone</th>\n",
       "      <th>latitude</th>\n",
       "      <th>longitude</th>\n",
       "    </tr>\n",
       "  </thead>\n",
       "  <tbody>\n",
       "    <tr>\n",
       "      <th>0</th>\n",
       "      <td>731501774</td>\n",
       "      <td>Able Long Playground</td>\n",
       "      <td>NaN</td>\n",
       "      <td>Parks - Western</td>\n",
       "      <td>Able Long Park</td>\n",
       "      <td>COAST AVE</td>\n",
       "      <td>https://tools.wprdc.org/images/pittsburgh/play...</td>\n",
       "      <td>Beechview</td>\n",
       "      <td>4</td>\n",
       "      <td>19</td>\n",
       "      <td>42003192000</td>\n",
       "      <td>5</td>\n",
       "      <td>19</td>\n",
       "      <td>6</td>\n",
       "      <td>4-28</td>\n",
       "      <td>40.408365</td>\n",
       "      <td>-80.028445</td>\n",
       "    </tr>\n",
       "    <tr>\n",
       "      <th>1</th>\n",
       "      <td>1461276747</td>\n",
       "      <td>Albert Graham Playground</td>\n",
       "      <td>NaN</td>\n",
       "      <td>Parks - Schenley</td>\n",
       "      <td>Albert Turk Graham Park</td>\n",
       "      <td>FORESIDE PL</td>\n",
       "      <td>https://tools.wprdc.org/images/pittsburgh/play...</td>\n",
       "      <td>Crawford-Roberts</td>\n",
       "      <td>6</td>\n",
       "      <td>3</td>\n",
       "      <td>42003030500</td>\n",
       "      <td>3</td>\n",
       "      <td>3</td>\n",
       "      <td>2</td>\n",
       "      <td>2-1</td>\n",
       "      <td>40.440519</td>\n",
       "      <td>-79.984137</td>\n",
       "    </tr>\n",
       "    <tr>\n",
       "      <th>2</th>\n",
       "      <td>1860709784</td>\n",
       "      <td>Alpine Playground</td>\n",
       "      <td>NaN</td>\n",
       "      <td>Parks - Northern</td>\n",
       "      <td>Alpine Gardens Park</td>\n",
       "      <td>ALPINE AVE</td>\n",
       "      <td>https://tools.wprdc.org/images/pittsburgh/play...</td>\n",
       "      <td>Central Northside</td>\n",
       "      <td>6</td>\n",
       "      <td>25</td>\n",
       "      <td>42003250300</td>\n",
       "      <td>1</td>\n",
       "      <td>25</td>\n",
       "      <td>1</td>\n",
       "      <td>1-21</td>\n",
       "      <td>40.457707</td>\n",
       "      <td>-80.012952</td>\n",
       "    </tr>\n",
       "    <tr>\n",
       "      <th>3</th>\n",
       "      <td>1770671485</td>\n",
       "      <td>Alton Playground</td>\n",
       "      <td>NaN</td>\n",
       "      <td>Parks - Western</td>\n",
       "      <td>Alton Park</td>\n",
       "      <td>ANDICK WAY</td>\n",
       "      <td>https://tools.wprdc.org/images/pittsburgh/play...</td>\n",
       "      <td>Beechview</td>\n",
       "      <td>4</td>\n",
       "      <td>19</td>\n",
       "      <td>42003191600</td>\n",
       "      <td>5</td>\n",
       "      <td>19</td>\n",
       "      <td>6</td>\n",
       "      <td>4-28</td>\n",
       "      <td>40.414137</td>\n",
       "      <td>-80.021605</td>\n",
       "    </tr>\n",
       "    <tr>\n",
       "      <th>4</th>\n",
       "      <td>18942817</td>\n",
       "      <td>Ammon Playground</td>\n",
       "      <td>NaN</td>\n",
       "      <td>Parks - Schenley</td>\n",
       "      <td>Ammon Park</td>\n",
       "      <td>MEMORY LN</td>\n",
       "      <td>https://tools.wprdc.org/images/pittsburgh/play...</td>\n",
       "      <td>Bedford Dwellings</td>\n",
       "      <td>6</td>\n",
       "      <td>5</td>\n",
       "      <td>42003050900</td>\n",
       "      <td>3</td>\n",
       "      <td>5</td>\n",
       "      <td>2</td>\n",
       "      <td>2-5</td>\n",
       "      <td>40.449037</td>\n",
       "      <td>-79.978064</td>\n",
       "    </tr>\n",
       "  </tbody>\n",
       "</table>\n",
       "</div>"
      ],
      "text/plain": [
       "           id                      name  type maintenance_responsibility  \\\n",
       "0   731501774      Able Long Playground   NaN            Parks - Western   \n",
       "1  1461276747  Albert Graham Playground   NaN           Parks - Schenley   \n",
       "2  1860709784         Alpine Playground   NaN           Parks - Northern   \n",
       "3  1770671485          Alton Playground   NaN            Parks - Western   \n",
       "4    18942817          Ammon Playground   NaN           Parks - Schenley   \n",
       "\n",
       "                      park       street  \\\n",
       "0           Able Long Park    COAST AVE   \n",
       "1  Albert Turk Graham Park  FORESIDE PL   \n",
       "2      Alpine Gardens Park   ALPINE AVE   \n",
       "3               Alton Park   ANDICK WAY   \n",
       "4               Ammon Park    MEMORY LN   \n",
       "\n",
       "                                               image       neighborhood  \\\n",
       "0  https://tools.wprdc.org/images/pittsburgh/play...          Beechview   \n",
       "1  https://tools.wprdc.org/images/pittsburgh/play...   Crawford-Roberts   \n",
       "2  https://tools.wprdc.org/images/pittsburgh/play...  Central Northside   \n",
       "3  https://tools.wprdc.org/images/pittsburgh/play...          Beechview   \n",
       "4  https://tools.wprdc.org/images/pittsburgh/play...  Bedford Dwellings   \n",
       "\n",
       "   council_district  ward        tract  public_works_division  pli_division  \\\n",
       "0                 4    19  42003192000                      5            19   \n",
       "1                 6     3  42003030500                      3             3   \n",
       "2                 6    25  42003250300                      1            25   \n",
       "3                 4    19  42003191600                      5            19   \n",
       "4                 6     5  42003050900                      3             5   \n",
       "\n",
       "   police_zone fire_zone   latitude  longitude  \n",
       "0            6      4-28  40.408365 -80.028445  \n",
       "1            2       2-1  40.440519 -79.984137  \n",
       "2            1      1-21  40.457707 -80.012952  \n",
       "3            6      4-28  40.414137 -80.021605  \n",
       "4            2       2-5  40.449037 -79.978064  "
      ]
     },
     "execution_count": 4,
     "metadata": {},
     "output_type": "execute_result"
    }
   ],
   "source": [
    "import pandas as pd\n",
    "playgrounds = pd.read_csv(\"playgrounds.csv\")\n",
    "playgrounds.head()"
   ]
  },
  {
   "cell_type": "code",
   "execution_count": 2,
   "metadata": {},
   "outputs": [
    {
     "name": "stdout",
     "output_type": "stream",
     "text": [
      "The neighborhood with the most playgrounds is 'Squirrel Hill South' with 8 playgrounds.\n"
     ]
    }
   ],
   "source": [
    "import pandas as pd \n",
    "import matplotlib.pyplot as plt\n",
    "df = pd.read_csv(\"playgrounds.csv\")\n",
    "\n",
    "#Group the data by neighborhood and count the number of playgrounds in each neighborhood \n",
    "neighborhood_counts = df['neighborhood'].value_counts()\n",
    "\n",
    "#Get the neighborhood with the most playgrounds\n",
    "neighborhood_with_most_playgrounds = neighborhood_counts.idxmax()\n",
    "\n",
    "#Get the count of playgrounds inthe nieghborhood wth the most playgrounds\n",
    "most_playgrounds_count = neighborhood_counts.max()\n",
    "print(f\"The neighborhood with the most playgrounds is '{neighborhood_with_most_playgrounds}' with {most_playgrounds_count} playgrounds.\")"
   ]
  },
  {
   "cell_type": "code",
   "execution_count": 3,
   "metadata": {},
   "outputs": [
    {
     "data": {
      "image/png": "[encoded data removed]",
      "text/plain": [
       "<Figure size 432x288 with 1 Axes>"
      ]
     },
     "metadata": {
      "needs_background": "light"
     },
     "output_type": "display_data"
    }
   ],
   "source": [
    "plt.bar(neighborhood_counts.index, neighborhood_counts.values)\n",
    "plt.xlabel('Neighborhood')\n",
    "plt.ylabel('Playground Count')\n",
    "plt.title('Playground Count by Neighborhood')\n",
    "plt.xticks(rotation='vertical')\n",
    "plt.tight_layout()\n",
    "plt.show()\n"
   ]
  },
  {
   "cell_type": "code",
   "execution_count": 6,
   "metadata": {},
   "outputs": [
    {
     "name": "stdout",
     "output_type": "stream",
     "text": [
      "Top 10 neighborhoods with the most playgrounds:\n",
      "Squirrel Hill South    8\n",
      "Beechview              5\n",
      "South Side Slopes      5\n",
      "Highland Park          4\n",
      "Sheraden               4\n",
      "Beltzhoover            4\n",
      "Allegheny Center       4\n",
      "Carrick                3\n",
      "Mount Washington       3\n",
      "Elliott                3\n",
      "Name: neighborhood, dtype: int64\n"
     ]
    },
    {
     "data": {
      "image/png": "[encoded data removed]",
      "text/plain": [
       "<Figure size 432x288 with 1 Axes>"
      ]
     },
     "metadata": {
      "needs_background": "light"
     },
     "output_type": "display_data"
    }
   ],
   "source": [
    "neighborhood_counts = df['neighborhood'].value_counts()\n",
    "top10_neighborhoods = neighborhood_counts.head(10)\n",
    "print(\"Top 10 neighborhoods with the most playgrounds:\")\n",
    "print(top10_neighborhoods)\n",
    "plt.bar(top10_neighborhoods.index, top10_neighborhoods.values)\n",
    "plt.xlabel('Neighborhood')\n",
    "plt.ylabel('Playground Count')\n",
    "plt.title('Top 10 Neighborhoods with Most Playgrounds')\n",
    "plt.xticks(rotation='vertical')\n",
    "plt.tight_layout()\n",
    "plt.show()\n",
    "\n"
   ]
  },
  {
   "cell_type": "code",
   "execution_count": 13,
   "metadata": {},
   "outputs": [
    {
     "data": {
      "text/html": [
       "<div>\n",
       "<style scoped>\n",
       "    .dataframe tbody tr th:only-of-type {\n",
       "        vertical-align: middle;\n",
       "    }\n",
       "\n",
       "    .dataframe tbody tr th {\n",
       "        vertical-align: top;\n",
       "    }\n",
       "\n",
       "    .dataframe thead th {\n",
       "        text-align: right;\n",
       "    }\n",
       "</style>\n",
       "<table border=\"1\" class=\"dataframe\">\n",
       "  <thead>\n",
       "    <tr style=\"text-align: right;\">\n",
       "      <th></th>\n",
       "      <th>Responsibility_Parks or Operations</th>\n",
       "      <th>Facility</th>\n",
       "      <th>Division</th>\n",
       "      <th>Total Acreage</th>\n",
       "      <th>Maintainable Acreage</th>\n",
       "      <th>Shelter</th>\n",
       "      <th>Rec Center</th>\n",
       "      <th>Senior Center</th>\n",
       "      <th>Pool</th>\n",
       "      <th>Spray Pool</th>\n",
       "      <th>...</th>\n",
       "      <th>Grandstand</th>\n",
       "      <th>Control Link for Basketball Courts</th>\n",
       "      <th>Control Link for Tennis Court</th>\n",
       "      <th>Control Linkl for Hockey Court</th>\n",
       "      <th>Dek Hockey Court</th>\n",
       "      <th>Dog Park</th>\n",
       "      <th>Spray Park</th>\n",
       "      <th>Ownership of Facility</th>\n",
       "      <th>Benches</th>\n",
       "      <th>Tables</th>\n",
       "    </tr>\n",
       "  </thead>\n",
       "  <tbody>\n",
       "    <tr>\n",
       "      <th>0</th>\n",
       "      <td>Operations</td>\n",
       "      <td>Bates St Triangle</td>\n",
       "      <td>3.0</td>\n",
       "      <td>0.2</td>\n",
       "      <td>NaN</td>\n",
       "      <td>NaN</td>\n",
       "      <td>NaN</td>\n",
       "      <td>NaN</td>\n",
       "      <td>NaN</td>\n",
       "      <td>NaN</td>\n",
       "      <td>...</td>\n",
       "      <td>NaN</td>\n",
       "      <td>No</td>\n",
       "      <td>No</td>\n",
       "      <td>No</td>\n",
       "      <td>NaN</td>\n",
       "      <td>NaN</td>\n",
       "      <td>NaN</td>\n",
       "      <td>NaN</td>\n",
       "      <td>NaN</td>\n",
       "      <td>NaN</td>\n",
       "    </tr>\n",
       "    <tr>\n",
       "      <th>1</th>\n",
       "      <td>Operations</td>\n",
       "      <td>Baum Negley Triangle</td>\n",
       "      <td>2.0</td>\n",
       "      <td>0.2</td>\n",
       "      <td>NaN</td>\n",
       "      <td>NaN</td>\n",
       "      <td>0.0</td>\n",
       "      <td>0.0</td>\n",
       "      <td>NaN</td>\n",
       "      <td>NaN</td>\n",
       "      <td>...</td>\n",
       "      <td>NaN</td>\n",
       "      <td>No</td>\n",
       "      <td>No</td>\n",
       "      <td>No</td>\n",
       "      <td>NaN</td>\n",
       "      <td>NaN</td>\n",
       "      <td>NaN</td>\n",
       "      <td>NaN</td>\n",
       "      <td>0.0</td>\n",
       "      <td>0.0</td>\n",
       "    </tr>\n",
       "    <tr>\n",
       "      <th>2</th>\n",
       "      <td>Operations</td>\n",
       "      <td>Bedford Strip</td>\n",
       "      <td>3.0</td>\n",
       "      <td>0.3</td>\n",
       "      <td>NaN</td>\n",
       "      <td>NaN</td>\n",
       "      <td>0.0</td>\n",
       "      <td>0.0</td>\n",
       "      <td>NaN</td>\n",
       "      <td>NaN</td>\n",
       "      <td>...</td>\n",
       "      <td>NaN</td>\n",
       "      <td>No</td>\n",
       "      <td>No</td>\n",
       "      <td>No</td>\n",
       "      <td>NaN</td>\n",
       "      <td>NaN</td>\n",
       "      <td>NaN</td>\n",
       "      <td>NaN</td>\n",
       "      <td>0.0</td>\n",
       "      <td>0.0</td>\n",
       "    </tr>\n",
       "    <tr>\n",
       "      <th>3</th>\n",
       "      <td>Operations</td>\n",
       "      <td>Beechview Monument</td>\n",
       "      <td>5.0</td>\n",
       "      <td>0.1</td>\n",
       "      <td>NaN</td>\n",
       "      <td>NaN</td>\n",
       "      <td>NaN</td>\n",
       "      <td>NaN</td>\n",
       "      <td>NaN</td>\n",
       "      <td>NaN</td>\n",
       "      <td>...</td>\n",
       "      <td>NaN</td>\n",
       "      <td>No</td>\n",
       "      <td>No</td>\n",
       "      <td>No</td>\n",
       "      <td>NaN</td>\n",
       "      <td>NaN</td>\n",
       "      <td>NaN</td>\n",
       "      <td>NaN</td>\n",
       "      <td>2.0</td>\n",
       "      <td>NaN</td>\n",
       "    </tr>\n",
       "    <tr>\n",
       "      <th>4</th>\n",
       "      <td>Operations</td>\n",
       "      <td>Brookline Monument</td>\n",
       "      <td>4.0</td>\n",
       "      <td>0.1</td>\n",
       "      <td>NaN</td>\n",
       "      <td>NaN</td>\n",
       "      <td>0.0</td>\n",
       "      <td>0.0</td>\n",
       "      <td>NaN</td>\n",
       "      <td>NaN</td>\n",
       "      <td>...</td>\n",
       "      <td>NaN</td>\n",
       "      <td>No</td>\n",
       "      <td>No</td>\n",
       "      <td>No</td>\n",
       "      <td>NaN</td>\n",
       "      <td>NaN</td>\n",
       "      <td>NaN</td>\n",
       "      <td>NaN</td>\n",
       "      <td>0.0</td>\n",
       "      <td>0.0</td>\n",
       "    </tr>\n",
       "  </tbody>\n",
       "</table>\n",
       "<p>5 rows × 45 columns</p>\n",
       "</div>"
      ],
      "text/plain": [
       "  Responsibility_Parks or Operations              Facility  Division  \\\n",
       "0                         Operations     Bates St Triangle       3.0   \n",
       "1                         Operations  Baum Negley Triangle       2.0   \n",
       "2                         Operations         Bedford Strip       3.0   \n",
       "3                         Operations    Beechview Monument       5.0   \n",
       "4                         Operations    Brookline Monument       4.0   \n",
       "\n",
       "   Total Acreage  Maintainable Acreage  Shelter  Rec Center  Senior Center  \\\n",
       "0            0.2                   NaN      NaN         NaN            NaN   \n",
       "1            0.2                   NaN      NaN         0.0            0.0   \n",
       "2            0.3                   NaN      NaN         0.0            0.0   \n",
       "3            0.1                   NaN      NaN         NaN            NaN   \n",
       "4            0.1                   NaN      NaN         0.0            0.0   \n",
       "\n",
       "   Pool  Spray Pool  ...  Grandstand  Control Link for Basketball Courts  \\\n",
       "0   NaN         NaN  ...         NaN                                  No   \n",
       "1   NaN         NaN  ...         NaN                                  No   \n",
       "2   NaN         NaN  ...         NaN                                  No   \n",
       "3   NaN         NaN  ...         NaN                                  No   \n",
       "4   NaN         NaN  ...         NaN                                  No   \n",
       "\n",
       "   Control Link for Tennis Court  Control Linkl for Hockey Court  \\\n",
       "0                             No                              No   \n",
       "1                             No                              No   \n",
       "2                             No                              No   \n",
       "3                             No                              No   \n",
       "4                             No                              No   \n",
       "\n",
       "   Dek Hockey Court  Dog Park  Spray Park  Ownership of Facility  Benches  \\\n",
       "0               NaN       NaN         NaN                    NaN      NaN   \n",
       "1               NaN       NaN         NaN                    NaN      0.0   \n",
       "2               NaN       NaN         NaN                    NaN      0.0   \n",
       "3               NaN       NaN         NaN                    NaN      2.0   \n",
       "4               NaN       NaN         NaN                    NaN      0.0   \n",
       "\n",
       "   Tables  \n",
       "0     NaN  \n",
       "1     0.0  \n",
       "2     0.0  \n",
       "3     NaN  \n",
       "4     0.0  \n",
       "\n",
       "[5 rows x 45 columns]"
      ]
     },
     "execution_count": 13,
     "metadata": {},
     "output_type": "execute_result"
    }
   ],
   "source": [
    "import pandas as pd\n",
    "import matplotlib.pyplot as plt\n",
    "playgrounds = pd.read_csv(\"greenspaces.csv\")\n",
    "playgrounds.head()\n"
   ]
  },
  {
   "cell_type": "code",
   "execution_count": 1,
   "metadata": {},
   "outputs": [
    {
     "name": "stdout",
     "output_type": "stream",
     "text": [
      "The neighborhood with the most green spaces is 'East Liberty' with 6 green spaces.\n"
     ]
    }
   ],
   "source": [
    "import pandas as pd\n",
    "import matplotlib.pyplot as plt\n",
    "df = pd.read_csv(\"greenspaces.csv\")\n",
    "neighborhood_counts = df['Neighborhood'].value_counts()\n",
    "neighborhood_with_most_green_spaces = neighborhood_counts.idxmax()\n",
    "most_green_spaces_count = neighborhood_counts.max()\n",
    "print(f\"The neighborhood with the most green spaces is '{neighborhood_with_most_green_spaces}' with {most_green_spaces_count} green spaces.\")"
   ]
  },
  {
   "cell_type": "code",
   "execution_count": 2,
   "metadata": {},
   "outputs": [
    {
     "data": {
      "image/png": "[encoded data removed]",
      "text/plain": [
       "<Figure size 432x288 with 1 Axes>"
      ]
     },
     "metadata": {
      "needs_background": "light"
     },
     "output_type": "display_data"
    }
   ],
   "source": [
    "plt.bar(neighborhood_counts.index[:10], neighborhood_counts.values[:10])\n",
    "plt.xlabel('Neighborhood')\n",
    "plt.ylabel('Green Space Count')\n",
    "plt.title('Green Space Count by Neighborhood')\n",
    "plt.xticks(rotation='vertical')\n",
    "plt.tight_layout()\n",
    "plt.show()"
   ]
  },
  {
   "cell_type": "code",
   "execution_count": 3,
   "metadata": {},
   "outputs": [
    {
     "data": {
      "text/plain": [
       "Squirrel Hill South      26\n",
       "Highland Park            20\n",
       "Hazelwood                10\n",
       "Beltzhoover               9\n",
       "Brookline                 9\n",
       "                         ..\n",
       "Marshall-Shadeland        1\n",
       "Central Lawrenceville     1\n",
       "Hays                      1\n",
       "Bon Air                   1\n",
       "Larimer                   1\n",
       "Name: neighborhood, Length: 63, dtype: int64"
      ]
     },
     "execution_count": 3,
     "metadata": {},
     "output_type": "execute_result"
    }
   ],
   "source": [
    "import pandas as pd\n",
    "import numpy as np\n",
    "\n",
    "# load data\n",
    "center_attendance_pandas = pd.read_csv(\"courts.csv\") # use the column named _id as the row index\n",
    "center_attendance_pandas['neighborhood'].value_counts()"
   ]
  },
  {
   "cell_type": "code",
   "execution_count": 4,
   "metadata": {},
   "outputs": [
    {
     "data": {
      "image/png": "[encoded data removed]",
      "text/plain": [
       "<Figure size 432x288 with 1 Axes>"
      ]
     },
     "metadata": {
      "needs_background": "light"
     },
     "output_type": "display_data"
    }
   ],
   "source": [
    "import pandas as pd\n",
    "import matplotlib.pyplot as plt\n",
    "\n",
    "# read the CSV file into a pandas DataFrame\n",
    "df = pd.read_csv('courts.csv')\n",
    "\n",
    "# group the data by street name and count the number of stores\n",
    "store_counts = df.groupby('neighborhood')['name'].count().nlargest(10)\n",
    "\n",
    "# plot the store counts as a bar chart\n",
    "store_counts.plot(kind='bar', xlabel='neighborhood', ylabel='number of courts and rinks')\n",
    "\n",
    "# show the plot\n",
    "plt.show()"
   ]
  },
  {
   "cell_type": "markdown",
   "metadata": {},
   "source": [
    "OUR CONCLUSION:\n",
    "\n",
    "    We think that Squirrel Hill South is the best neighborhood because it was rated number 1 for the playgrounds and courts database and top 5 for the green spaces one."
   ]
  }
 ],
 "metadata": {
  "kernelspec": {
   "display_name": "Python 3",
   "language": "python",
   "name": "python3"
  },
  "language_info": {
   "codemirror_mode": {
    "name": "ipython",
    "version": 3
   },
   "file_extension": ".py",
   "mimetype": "text/x-python",
   "name": "python",
   "nbconvert_exporter": "python",
   "pygments_lexer": "ipython3",
   "version": "3.8.3"
  }
 },
 "nbformat": 4,
 "nbformat_minor": 4
}
